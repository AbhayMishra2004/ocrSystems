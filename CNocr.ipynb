{
  "nbformat": 4,
  "nbformat_minor": 0,
  "metadata": {
    "colab": {
      "provenance": [],
      "include_colab_link": true
    },
    "kernelspec": {
      "name": "python3",
      "display_name": "Python 3"
    },
    "language_info": {
      "name": "python"
    }
  },
  "cells": [
    {
      "cell_type": "markdown",
      "metadata": {
        "id": "view-in-github",
        "colab_type": "text"
      },
      "source": [
        "<a href=\"https://colab.research.google.com/github/AbhayMishra2004/ocrSystems/blob/main/Copy_of_CNocr.ipynb\" target=\"_parent\"><img src=\"https://colab.research.google.com/assets/colab-badge.svg\" alt=\"Open In Colab\"/></a>"
      ]
    },
    {
      "cell_type": "markdown",
      "source": [
        "Both GPU and CPU avilable, I am currently using CPU"
      ],
      "metadata": {
        "id": "w-D11VyfYH-W"
      }
    },
    {
      "cell_type": "code",
      "execution_count": null,
      "metadata": {
        "id": "kzRHb9lxYAmA"
      },
      "outputs": [],
      "source": [
        "!pip install cnocr[ort-cpu] -q"
      ]
    },
    {
      "cell_type": "code",
      "source": [
        "from cnocr import CnOcr\n",
        "\n",
        "def ocr(img=None):\n",
        "\n",
        "  if img == None  :\n",
        "    return \"Image not given\"\n",
        "\n",
        "  ocr = CnOcr(det_model_name=\"db_shufflenet_v2\", rec_model_name=\"en_PP-OCRv3\")\n",
        "  out = ocr.ocr(img)\n",
        "  return out"
      ],
      "metadata": {
        "id": "KD_1zfkoYkAB"
      },
      "execution_count": 2,
      "outputs": []
    },
    {
      "cell_type": "code",
      "source": [
        "# SEND IMAGE FOR THE OCR\n",
        "img = r\"/content/math.jpg\"\n",
        "\n",
        "print(ocr(img))"
      ],
      "metadata": {
        "id": "5nJFBxacYzAv"
      },
      "execution_count": null,
      "outputs": []
    },
    {
      "cell_type": "markdown",
      "source": [
        "# IT can extract Image in English.\n",
        "# IT CAN ALSO EXTRACT MATHS."
      ],
      "metadata": {
        "id": "bNp390MMfb35"
      }
    }
  ]
}
