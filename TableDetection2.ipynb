{
  "nbformat": 4,
  "nbformat_minor": 0,
  "metadata": {
    "colab": {
      "provenance": [],
      "collapsed_sections": [
        "sj22uKIm3C1a"
      ]
    },
    "kernelspec": {
      "name": "python3",
      "display_name": "Python 3"
    },
    "language_info": {
      "name": "python"
    }
  },
  "cells": [
    {
      "cell_type": "code",
      "source": [
        "!pip freeze > req.txt"
      ],
      "metadata": {
        "id": "1caQXg5oTMSD"
      },
      "execution_count": null,
      "outputs": []
    },
    {
      "cell_type": "code",
      "execution_count": null,
      "metadata": {
        "id": "jOo25g0i04cY"
      },
      "outputs": [],
      "source": [
        "! pip install \"camelot-py[base]\" -q"
      ]
    },
    {
      "cell_type": "code",
      "source": [
        "!pip install deepdoctection -q\n",
        "!pip install timm -q\n",
        "! apt install tesseract-ocr\n",
        "! apt install libtesseract-dev\n",
        "!apt-get install ghostscript -q"
      ],
      "metadata": {
        "id": "0DaLIW9Ce2Ot"
      },
      "execution_count": null,
      "outputs": []
    },
    {
      "cell_type": "code",
      "source": [
        "!pip install 'PyPDF2<3.0' -q"
      ],
      "metadata": {
        "id": "L1Mw6OPv6TON"
      },
      "execution_count": null,
      "outputs": []
    },
    {
      "cell_type": "code",
      "execution_count": null,
      "metadata": {
        "id": "8QAjwgFpeDNi"
      },
      "outputs": [],
      "source": [
        "import cv2\n",
        "from pathlib import Path\n",
        "from matplotlib import pyplot as plt\n",
        "from IPython.core.display import HTML\n",
        "import deepdoctection as dd\n",
        "import camelot"
      ]
    },
    {
      "cell_type": "markdown",
      "source": [
        "# Split of every page PDF"
      ],
      "metadata": {
        "id": "sj22uKIm3C1a"
      }
    },
    {
      "cell_type": "code",
      "source": [
        "import os\n",
        "import PyPDF2\n",
        "\n",
        "def split_pdf(input_pdf_path, output_folder):\n",
        "    # Create the output folder if it doesn't exist\n",
        "    if not os.path.exists(output_folder):\n",
        "        os.makedirs(output_folder)\n",
        "\n",
        "    # Open the PDF file\n",
        "    with open(input_pdf_path, 'rb') as file:\n",
        "        reader = PyPDF2.PdfFileReader(file)\n",
        "        num_pages = reader.numPages\n",
        "\n",
        "        # Iterate through each page\n",
        "        for page_num in range(num_pages):\n",
        "            page = reader.getPage(page_num)\n",
        "            writer = PyPDF2.PdfFileWriter()\n",
        "            writer.addPage(page)\n",
        "\n",
        "            # Save the page as a separate PDF file\n",
        "            output_pdf_path = os.path.join(output_folder, f'page_{page_num + 1}.pdf')\n",
        "            with open(output_pdf_path, 'wb') as output_file:\n",
        "                writer.write(output_file)\n",
        "\n",
        "if __name__ == \"__main__\":\n",
        "    # Specify the input PDF file path\n",
        "    input_pdf_path = \"/content/tata-steel-report.pdf\"\n",
        "\n",
        "    # Specify the output folder\n",
        "    output_folder = \"/content/savePDF\"\n",
        "\n",
        "    # Call the split_pdf function\n",
        "    split_pdf(input_pdf_path, output_folder)\n"
      ],
      "metadata": {
        "id": "nqGNbBwjQtHa"
      },
      "execution_count": null,
      "outputs": []
    },
    {
      "cell_type": "markdown",
      "source": [
        "# Detection and extraction"
      ],
      "metadata": {
        "id": "F-WdUPAf38Xj"
      }
    },
    {
      "cell_type": "code",
      "source": [
        "analyzer = dd.get_dd_analyzer()"
      ],
      "metadata": {
        "id": "ivhCVLT-gOkq"
      },
      "execution_count": null,
      "outputs": []
    },
    {
      "cell_type": "code",
      "source": [
        "file = r\"/content/savePDF/page_87.pdf\""
      ],
      "metadata": {
        "id": "5a0KraDs4X5M"
      },
      "execution_count": null,
      "outputs": []
    },
    {
      "cell_type": "code",
      "source": [
        "def detectThings(file):\n",
        "  df = analyzer.analyze(path = file)\n",
        "  df.reset_state()\n",
        "\n",
        "  doc = iter(df)\n",
        "  page = next(doc)\n",
        "\n",
        "  image = page.viz()\n",
        "  plt.figure(figsize = (25,17))\n",
        "  plt.imshow(image)\n",
        "\n",
        "  return page, doc\n",
        "\n",
        "page, doc = detectThings(file)"
      ],
      "metadata": {
        "id": "hBwKMr3-sk5M"
      },
      "execution_count": null,
      "outputs": []
    },
    {
      "cell_type": "code",
      "source": [
        "page_height = page.height\n",
        "page_width = page.width"
      ],
      "metadata": {
        "id": "lBhaGvSNbcTX"
      },
      "execution_count": null,
      "outputs": []
    },
    {
      "cell_type": "code",
      "source": [
        "# COLLECTING ALL BOUNDING BOX FROM ALL PAGE\n",
        "\n",
        "i = 0\n",
        "bounding_boxes = []\n",
        "\n",
        "for table in page.tables :\n",
        "  table = page.tables[i]\n",
        "  bounding_boxes.append(table.bounding_box)\n",
        "  i = i + 1\n",
        "\n",
        "bounding_boxes"
      ],
      "metadata": {
        "id": "TvEiUrkZ5Fpw",
        "colab": {
          "base_uri": "https://localhost:8080/"
        },
        "outputId": "7ad3edf0-c5a6-4c7a-cbf8-27804811071d"
      },
      "execution_count": null,
      "outputs": [
        {
          "output_type": "execute_result",
          "data": {
            "text/plain": [
              "[BoundingBox(absolute_coords=True, ulx=178.21522521972656, uly=1581.8509521484375, lrx=2258.066162109375, lry=2751.92529296875, height=1170.0743408203125, width=2079.8509368896484)]"
            ]
          },
          "metadata": {},
          "execution_count": 282
        }
      ]
    },
    {
      "cell_type": "code",
      "source": [
        "bounding_box = bounding_boxes[0]"
      ],
      "metadata": {
        "id": "KaD0CSg4ah8O"
      },
      "execution_count": null,
      "outputs": []
    },
    {
      "cell_type": "code",
      "source": [
        "from camelot import utils\n",
        "layout, dim = utils.get_page_layout(file)\n",
        "dim"
      ],
      "metadata": {
        "colab": {
          "base_uri": "https://localhost:8080/"
        },
        "id": "HoMOKdeSjai4",
        "outputId": "0c739fa5-c7b8-49ef-be79-84dbe95eec6e"
      },
      "execution_count": null,
      "outputs": [
        {
          "output_type": "execute_result",
          "data": {
            "text/plain": [
              "(594, 738)"
            ]
          },
          "metadata": {},
          "execution_count": 283
        }
      ]
    },
    {
      "cell_type": "code",
      "source": [
        "# CONVERSTION\n",
        "\n",
        "deep_ulx = bounding_box.ulx\n",
        "deep_uly = bounding_box.uly\n",
        "deep_lrx = bounding_box.lrx\n",
        "deep_lry = bounding_box.lry\n",
        "\n",
        "deep_page_height = page_height\n",
        "deep_page_width = page_width\n",
        "\n",
        "camelot_page_width = dim[0]\n",
        "camelot_page_height = dim[1]\n",
        "\n",
        "def convert_coordinates(ulx, uly, lrx, lry, deep_width, deep_height, camelot_width, camelot_height):\n",
        "    # Convert y-coordinates from top-left origin to bottom-left origin\n",
        "    deep_uly = deep_height - uly\n",
        "    deep_lry = deep_height - lry\n",
        "\n",
        "    # Scale coordinates based on page dimensions\n",
        "    scale_x = camelot_width / deep_width\n",
        "    scale_y = camelot_height / deep_height\n",
        "\n",
        "    camelot_ulx = ulx * scale_x\n",
        "    camelot_uly = deep_uly * scale_y\n",
        "    camelot_lrx = lrx * scale_x\n",
        "    camelot_lry = deep_lry * scale_y\n",
        "\n",
        "    return camelot_ulx, camelot_uly, camelot_lrx, camelot_lry\n",
        "\n",
        "# Convert coordinates\n",
        "camelot_ulx, camelot_uly, camelot_lrx, camelot_lry = convert_coordinates(deep_ulx, deep_uly, deep_lrx, deep_lry, deep_page_width, deep_page_height, camelot_page_width, camelot_page_height)\n",
        "\n",
        "result = [camelot_ulx, camelot_uly, camelot_lrx, camelot_lry]\n",
        "\n",
        "result"
      ],
      "metadata": {
        "colab": {
          "base_uri": "https://localhost:8080/"
        },
        "id": "t7cCt8av5HIl",
        "outputId": "4cd47ae5-0846-49aa-dd02-37f354169bda"
      },
      "execution_count": null,
      "outputs": [
        {
          "output_type": "execute_result",
          "data": {
            "text/plain": [
              "[42.77165405273438, 358.355771484375, 541.93587890625, 77.5379296875]"
            ]
          },
          "metadata": {},
          "execution_count": 286
        }
      ]
    },
    {
      "cell_type": "code",
      "source": [
        "pdf_file = file\n",
        "num_pages = len(pdf_file)\n",
        "\n",
        "page = 1\n",
        "\n",
        "left = result[0]\n",
        "top = result[1]\n",
        "right = result[2]\n",
        "bottom = result[3]\n",
        "\n",
        "table_area = [f'{left},{top},{right},{bottom}']\n",
        "\n",
        "tables = camelot.read_pdf(pdf_file, pages=f\"{page}\", flavor='stream', table_areas = table_area)\n",
        "\n",
        "i = 1\n",
        "\n",
        "# Process tables from the current page\n",
        "for table in tables:\n",
        "\n",
        "    i += 1\n",
        "\n",
        "    table.to_csv(f'{page}.{i}.csv')\n",
        "\n",
        "print(tables[0]._bbox)\n",
        "\n",
        "camelot.plot(tables[0], kind='grid').show()\n",
        "\n",
        "camelot.plot(tables[0], kind='contour').show()"
      ],
      "metadata": {
        "id": "597xo1H-59fc"
      },
      "execution_count": null,
      "outputs": []
    },
    {
      "cell_type": "markdown",
      "source": [
        "# Raw Code"
      ],
      "metadata": {
        "id": "LfWRZexR54l3"
      }
    },
    {
      "cell_type": "code",
      "source": [
        "# def convert_coordinates(dd_ulx, dd_uly, dd_lrx, dd_lry, camelot_page_width, camelot_page_height):\n",
        "#     \"\"\"Converts Deepdoctection table coordinates to Camelot table coordinates.\"\"\"\n",
        "\n",
        "#     # Use exact scaling\n",
        "#     ulx = round(dd_ulx * camelot_page_width / 4830.0, 2)  # Round to two decimal places\n",
        "#     uly = round(camelot_page_height - dd_uly * camelot_page_height / 2955.0, 2)\n",
        "#     lrx = round(dd_lrx * camelot_page_width / 4830.0, 2)\n",
        "#     lry = round(camelot_page_height - dd_lry * camelot_page_height / 2955.0, 2)\n",
        "\n",
        "#     # Potential adjustment factor (if needed)\n",
        "#     # ulx += 0.5  # Example adjustment\n",
        "\n",
        "#     return [ulx, uly, lrx, lry]\n",
        "\n",
        "########## using actual deep decteron page size ########################\n",
        "# def convert_coordinates(dd_ulx, dd_uly, dd_lrx, dd_lry, camelot_page_width, camelot_page_height):\n",
        "\n",
        "#     # Use exact scaling instead of approximation for accuracy\n",
        "#     ulx = dd_ulx * camelot_page_width / 4950.0\n",
        "#     uly = camelot_page_height - dd_uly * camelot_page_height /3075.0\n",
        "#     lrx = dd_lrx * camelot_page_width / 4950.0\n",
        "#     lry = camelot_page_height - dd_lry * camelot_page_height / 3075.0\n",
        "\n",
        "#     return ulx, uly, lrx, lry\n",
        "\n",
        "# result =  convert_coordinates(189.96823120117188, 463.01727294921875, 2254.64111328125, 2819.728271484375, 1188 ,738)\n",
        "\n",
        "####################### ONE MORE CODE #############################\n",
        "# DeepDoctection coordinates\n",
        "deep_ulx = 189.96823120117188\n",
        "deep_uly = 463.01727294921875\n",
        "deep_lrx = 2254.64111328125\n",
        "deep_lry = 2819.728271484375\n",
        "\n",
        "# deep_ulx = 2696.837646484375\n",
        "# deep_uly = 2291.658935546875\n",
        "# deep_lrx = 4766.8896484375\n",
        "# deep_lry = 2762.10595703125\n",
        "\n",
        "# Camelot coordinates\n",
        "camelot_ulx = 32.5197\n",
        "camelot_uly = 590\n",
        "camelot_lrx = 540\n",
        "camelot_lry = 80\n",
        "\n",
        "# DeepDoctection page dimensions\n",
        "deep_page_width = 4830.0\n",
        "deep_page_height = 2955.0\n",
        "\n",
        "# Camelot page dimensions\n",
        "camelot_page_width = 1188.0\n",
        "camelot_page_height = 738\n",
        "\n",
        "# Convert DeepDoctection coordinates to Camelot coordinates\n",
        "def convert_coordinates(ulx, uly, lrx, lry, deep_width, deep_height, camelot_width, camelot_height):\n",
        "    # Convert y-coordinates from top-left origin to bottom-left origin\n",
        "    deep_uly = deep_height - uly\n",
        "    deep_lry = deep_height - lry\n",
        "\n",
        "    # Scale coordinates based on page dimensions\n",
        "    scale_x = camelot_width / deep_width\n",
        "    scale_y = camelot_height / deep_height\n",
        "\n",
        "    camelot_ulx = ulx * scale_x\n",
        "    camelot_uly = deep_uly * scale_y\n",
        "    camelot_lrx = lrx * scale_x\n",
        "    camelot_lry = deep_lry * scale_y\n",
        "\n",
        "    return camelot_ulx, camelot_uly, camelot_lrx, camelot_lry\n",
        "\n",
        "# Convert coordinates\n",
        "camelot_ulx, camelot_uly, camelot_lrx, camelot_lry = convert_coordinates(deep_ulx, deep_uly, deep_lrx, deep_lry, deep_page_width, deep_page_height, camelot_page_width, camelot_page_height)\n",
        "\n",
        "# Display Camelot coordinates\n",
        "print(\"Converted Camelot Coordinates:\")\n",
        "print(\"ulx:\", camelot_ulx)\n",
        "print(\"uly:\", camelot_uly)\n",
        "print(\"lrx:\", camelot_lrx)\n",
        "print(\"lry:\", camelot_lry)\n",
        "\n",
        "result = convert_coordinates(deep_ulx, deep_uly, deep_lrx, deep_lry, deep_page_width, deep_page_height, camelot_page_width, camelot_page_height)\n"
      ],
      "metadata": {
        "id": "-LnZAr6--bMy"
      },
      "execution_count": null,
      "outputs": []
    },
    {
      "cell_type": "code",
      "source": [
        "# # You can access the figure's size in inches and dpi (dots per inch).\n",
        "# figsize_in_inches = fig.get_size_inches()\n",
        "# dpi = fig.dpi\n",
        "\n",
        "# # Calculate the figure size in pixels, using the dpi value.\n",
        "# figsize_in_pixels = figsize_in_inches * dpi\n",
        "\n",
        "# print(\"Figure size in inches:\", figsize_in_inches)\n",
        "# print(\"DPI:\", dpi)\n",
        "# print(\"Figure size in pixels:\", figsize_in_pixels)\n",
        "\n",
        "# # To get x and y axes limits (the extents of your plot in data coordinates)\n",
        "# ax = fig.gca()  # Get the current axes instance\n",
        "# x_limits = ax.get_xlim()  # x-axis limits\n",
        "# y_limits = ax.get_ylim()  # y-axis limits\n",
        "\n",
        "# print(\"x-axis limits:\", x_limits)\n",
        "# print(\"y-axis limits:\", y_limits)\n",
        "\n",
        "# fig.show()"
      ],
      "metadata": {
        "id": "2_Q2ZClddbhJ"
      },
      "execution_count": null,
      "outputs": []
    },
    {
      "cell_type": "code",
      "source": [],
      "metadata": {
        "id": "KLLCpemP493w"
      },
      "execution_count": null,
      "outputs": []
    },
    {
      "cell_type": "code",
      "source": [
        "# IT IS FOR SEEIING PAGE OF DETECTION IN MATPLOTLIB ACCORDING TO SIZE OF THE PAGE\n",
        "\n",
        "from matplotlib.ticker import MultipleLocator\n",
        "\n",
        "page_height = page.height\n",
        "page_width = page.width\n",
        "\n",
        "print(\"Page height:\", page_height )\n",
        "print(\"Page width:\", page_width)\n",
        "\n",
        "plt.figure(figsize=(25, 17))\n",
        "plt.imshow(image, extent=(0, page_width, page_height, 0))  # Set the extent to match image dimensions\n",
        "plt.axis('on')  # If you want to display the axis\n",
        "\n",
        "# Set the major tick locator for more fine-grained control\n",
        "ax = plt.gca()  # Get the current axes\n",
        "\n",
        "# Set major tick locator for x-axis and y-axis\n",
        "x_major_locator = MultipleLocator(100)  # Change 500 to desired tick interval for x-axis\n",
        "y_major_locator = MultipleLocator(50)  # Change 500 to desired tick interval for y-axis\n",
        "\n",
        "ax.xaxis.set_major_locator(x_major_locator)\n",
        "ax.yaxis.set_major_locator(y_major_locator)\n",
        "\n",
        "# Optionally turn on the grid for easier analysis\n",
        "plt.grid(False)\n",
        "\n",
        "# Draw a red boundary around the image\n",
        "image_boundary = plt.Rectangle((60, 60), page_width - 120, page_height - 120,\n",
        "                                linewidth=2, edgecolor='r', fill=False)\n",
        "ax.add_patch(image_boundary)\n",
        "\n",
        "\n",
        "plt.show()"
      ],
      "metadata": {
        "id": "7ewaOdR9d7sb"
      },
      "execution_count": null,
      "outputs": []
    }
  ]
}